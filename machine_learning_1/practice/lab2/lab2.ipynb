{
 "cells": [
  {
   "cell_type": "markdown",
   "metadata": {},
   "source": [
    "# Lab 2: Classification\n",
    "\n",
    "### Machine Learning 1, September 2015\n",
    "\n",
    "* The lab exercises should be made in groups of two, three or four people.\n",
    "* The deadline is October 4th (Sunday) 23:59.\n",
    "* Assignment should be sent to Philip Versteeg (p.j.j.p.versteeg@uva.nl). The subject line of your email should be \"lab\\#\\_lastname1\\_lastname2\\_lastname3\".\n",
    "* Put your and your teammates' names in the body of the email\n",
    "* Attach the .IPYNB (IPython Notebook) file containing your code and answers. Naming of the file follows the same rule as the subject line. For example, if the subject line is \"lab01\\_Kingma\\_Hu\", the attached file should be \"lab01\\_Kingma\\_Hu.ipynb\". Only use underscores (\"\\_\") to connect names, otherwise the files cannot be parsed.\n",
    "\n",
    "Notes on implementation:\n",
    "\n",
    "* For this notebook you need to answer a few theory questions, add them in the Markdown cell's below the question. Note: you can use Latex-style code in here.\n",
    "* Focus on Part 1 the first week, and Part 2 the second week!\n",
    "* You should write your code and answers below the questions in this IPython Notebook.\n",
    "* Among the first lines of your notebook should be \"%pylab inline\". This imports all required modules, and your plots will appear inline.\n",
    "* If you have questions outside of the labs, post them on blackboard or email me.\n",
    "* NOTE: Make sure we can run your notebook / scripts!\n",
    "\n",
    "$\\newcommand{\\bx}{\\mathbf{x}}$\n",
    "$\\newcommand{\\bw}{\\mathbf{w}}$\n",
    "$\\newcommand{\\bt}{\\mathbf{t}}$\n",
    "$\\newcommand{\\by}{\\mathbf{y}}$\n",
    "$\\newcommand{\\bm}{\\mathbf{m}}$\n",
    "$\\newcommand{\\bb}{\\mathbf{b}}$\n",
    "$\\newcommand{\\bS}{\\mathbf{S}}$\n",
    "$\\newcommand{\\ba}{\\mathbf{a}}$\n",
    "$\\newcommand{\\bz}{\\mathbf{z}}$\n",
    "$\\newcommand{\\bv}{\\mathbf{v}}$\n",
    "$\\newcommand{\\bq}{\\mathbf{q}}$\n",
    "$\\newcommand{\\bp}{\\mathbf{p}}$\n",
    "$\\newcommand{\\bh}{\\mathbf{h}}$\n",
    "$\\newcommand{\\bI}{\\mathbf{I}}$\n",
    "$\\newcommand{\\bX}{\\mathbf{X}}$\n",
    "$\\newcommand{\\bT}{\\mathbf{T}}$\n",
    "$\\newcommand{\\bPhi}{\\mathbf{\\Phi}}$\n",
    "$\\newcommand{\\bW}{\\mathbf{W}}$\n",
    "$\\newcommand{\\bV}{\\mathbf{V}}$"
   ]
  },
  {
   "cell_type": "code",
   "execution_count": 5,
   "metadata": {},
   "outputs": [],
   "source": [
    "%matplotlib inline\n",
    "import gzip, cPickle\n",
    "import matplotlib.pyplot as plt\n",
    "import numpy as np\n",
    "from pylab import *\n",
    "rcParams['legend.loc'] = 'best'"
   ]
  },
  {
   "cell_type": "markdown",
   "metadata": {},
   "source": [
    "# Part 1. Multiclass logistic regression\n",
    "\n",
    "Scenario: you have a friend with one big problem: she's completely blind. You decided to help her: she has a special smartphone for blind people, and you are going to develop a mobile phone app that can do _machine vision_ using the mobile camera: converting a picture (from the camera) to the meaning of the image. You decide to start with an app that can read handwritten digits, i.e. convert an image of handwritten digits to text (e.g. it would enable her to read precious handwritten phone numbers).\n",
    "\n",
    "A key building block for such an app would be a function `predict_digit(x)` that returns the digit class of an image patch $\\bx$. Since hand-coding this function is highly non-trivial, you decide to solve this problem using machine learning, such that the internal parameters of this function are automatically learned using machine learning techniques.\n",
    "\n",
    "The dataset you're going to use for this is the MNIST handwritten digits dataset (`http://yann.lecun.com/exdb/mnist/`). You can load the data from `mnist.pkl.gz` we provided, using: "
   ]
  },
  {
   "cell_type": "code",
   "execution_count": 6,
   "metadata": {},
   "outputs": [],
   "source": [
    "def load_mnist():\n",
    "    f = gzip.open('mnist.pkl.gz', 'rb')\n",
    "    data = cPickle.load(f)\n",
    "    f.close()\n",
    "    return data\n",
    "\n",
    "(x_train, t_train), (x_valid, t_valid), (x_test, t_test) = load_mnist()"
   ]
  },
  {
   "cell_type": "markdown",
   "metadata": {},
   "source": [
    "The tuples represent train, validation and test sets. The first element (`x_train`, `x_valid`, `x_test`) of each tuple is a $N \\times M$ matrix, where $N$ is the number of datapoints and $M = 28^2 = 784$ is the dimensionality of the data. The second element (`t_train`, `t_valid`, `t_test`) of each tuple is the corresponding $N$-dimensional vector of integers, containing the true class labels.\n",
    "\n",
    "Here's a visualisation of the first 8 digits of the trainingset:"
   ]
  },
  {
   "cell_type": "code",
   "execution_count": 7,
   "metadata": {},
   "outputs": [
    {
     "name": "stderr",
     "output_type": "stream",
     "text": [
      "/usr/local/lib/python2.7/site-packages/matplotlib/axes/_subplots.py:69: MatplotlibDeprecationWarning: The use of 0 (which ends up being the _last_ sub-plot) is deprecated in 1.4 and will raise an error in 1.5\n",
      "  mplDeprecation)\n"
     ]
    },
    {
     "data": {
      "image/png": "[encoded data removed]"
     },
     "output_type": "display_data",
     "metadata": {}
    }
   ],
   "source": [
    "def plot_digits(data, numcols, shape=(28,28)):\n",
    "    numdigits = data.shape[0]\n",
    "    numrows = int(numdigits/numcols)\n",
    "    for i in range(0, numdigits):\n",
    "        plt.subplot(numrows, numcols, i)\n",
    "        plt.axis('off')\n",
    "        plt.imshow(data[i].reshape(shape), interpolation='nearest', cmap='Greys')\n",
    "    plt.show()\n",
    "    \n",
    "plot_digits(x_train[0:8], numcols=4)"
   ]
  },
  {
   "cell_type": "markdown",
   "metadata": {},
   "source": [
    "In _multiclass_ logistic regression, the conditional probability of class label $j$ given the image $\\bx$ for some datapoint is given by:\n",
    "\n",
    "$ \\log p(t = j \\;|\\; \\bx, \\bb, \\bW) = \\log q_j - \\log Z$\n",
    "\n",
    "where $\\log q_j = \\bw_j^T \\bx + b_j$ (the log of the unnormalized probability of the class $j$), and $Z = \\sum_k q_k$ is the normalizing factor. $\\bw_j$ is the $j$-th column of $\\bW$ (a matrix of size $784 \\times 10$) corresponding to the class label, $b_j$ is the $j$-th element of $\\bb$.\n",
    "\n",
    "Given an input image, the multiclass logistic regression model first computes the intermediate vector $\\log \\bq$ (of size $10 \\times 1$), using $\\log q_j = \\bw_j^T \\bx + b_j$, containing the unnormalized log-probabilities per class. \n",
    "\n",
    "The unnormalized probabilities are then normalized by $Z$ such that $\\sum_j p_j = \\sum_j \\exp(\\log p_j) = 1$. This is done by $\\log p_j = \\log q_j - \\log Z$ where $Z = \\sum_j \\exp(\\log q_j)$. This is known as the _softmax_ transformation, and is also used as a last layer of many classifcation neural network models, to ensure that the output of the network is a normalized distribution, regardless of the values of second-to-last layer ($\\log \\bq$)\n",
    "\n",
    "Warning: when computing $\\log Z$, you are likely to encounter numerical problems. Save yourself countless hours of debugging and learn the [log-sum-exp trick](https://hips.seas.harvard.edu/blog/2013/01/09/computing-log-sum-exp/ \"Title\").\n",
    "\n",
    "The network's output $\\log \\bp$ of size $10 \\times 1$ then contains the conditional log-probabilities $\\log p(t = j \\;|\\; \\bx, \\bb, \\bW)$ for each digit class $j$. In summary, the computations are done in this order:\n",
    "\n",
    "$\\bx \\rightarrow \\log \\bq \\rightarrow Z \\rightarrow \\log \\bp$\n",
    "\n",
    "Given some dataset with $N$ independent, identically distributed datapoints, the log-likelihood is given by:\n",
    "\n",
    "$ \\mathcal{L}(\\bb, \\bW) = \\sum_{n=1}^N \\mathcal{L}^{(n)}$\n",
    "\n",
    "where we use $\\mathcal{L}^{(n)}$ to denote the partial log-likelihood evaluated over a single datapoint. It is important to see that the log-probability of the class label $t^{(n)}$ given the image, is given by the $t^{(n)}$-th element of the network's output $\\log \\bp$, denoted by $\\log p_{t^{(n)}}$:\n",
    "\n",
    "$\\mathcal{L}^{(n)} = \\log p(t = t^{(n)} \\;|\\; \\bx = \\bx^{(n)}, \\bb, \\bW) = \\log p_{t^{(n)}} = \\log q_{t^{(n)}} - \\log Z^{(n)}$\n",
    "\n",
    "where $\\bx^{(n)}$ and $t^{(n)}$ are the input (image) and class label (integer) of the $n$-th datapoint, and $Z^{(n)}$ is the normalizing constant for the distribution over $t^{(n)}$.\n"
   ]
  },
  {
   "cell_type": "markdown",
   "metadata": {},
   "source": [
    "## 1.1 Gradient-based stochastic optimization\n",
    "\n",
    "### 1.1.1 Derive gradient equations (20 points)\n",
    "\n",
    "Derive the equations for computing the (first) partial derivatives of the log-likelihood w.r.t. all the parameters, evaluated at a _single_ datapoint $n$.\n",
    "\n",
    "You should start deriving the equations for $\\frac{\\partial \\mathcal{L}^{(n)}}{\\partial \\log q_j}$ for each $j$. For clarity, we'll use the shorthand $\\delta^q_j = \\frac{\\partial \\mathcal{L}^{(n)}}{\\partial \\log q_j}$.\n",
    "\n",
    "For $j = t^{(n)}$:\n",
    "$\n",
    "\\delta^q_j\n",
    "= \\frac{\\partial \\mathcal{L}^{(n)}}{\\partial \\log p_j}\n",
    "\\frac{\\partial \\log p_j}{\\partial \\log q_j}\n",
    "+ \\frac{\\partial \\mathcal{L}^{(n)}}{\\partial \\log Z}\n",
    "\\frac{\\partial \\log Z}{\\partial Z} \n",
    "\\frac{\\partial Z}{\\partial \\log q_j} \n",
    "= 1 \\cdot 1 - \\frac{\\partial \\log Z}{\\partial Z} \n",
    "\\frac{\\partial Z}{\\partial \\log q_j}\n",
    "= 1 - \\frac{\\partial \\log Z}{\\partial Z} \n",
    "\\frac{\\partial Z}{\\partial \\log q_j}\n",
    "$\n",
    "\n",
    "For $j \\neq t^{(n)}$:\n",
    "$\n",
    "\\delta^q_j\n",
    "= \\frac{\\partial \\mathcal{L}^{(n)}}{\\partial \\log Z}\n",
    "\\frac{\\partial \\log Z}{\\partial Z} \n",
    "\\frac{\\partial Z}{\\partial \\log q_j} \n",
    "= - \\frac{\\partial \\log Z}{\\partial Z} \n",
    "\\frac{\\partial Z}{\\partial \\log q_j}\n",
    "$\n",
    "\n",
    "Complete the above derivations for $\\delta^q_j$ by furtherly developing $\\frac{\\partial \\log Z}{\\partial Z}$ and $\\frac{\\partial Z}{\\partial \\log q_j}$. Both are quite simple. For these it doesn't matter whether $j = t^{(n)}$ or not.\n",
    "\n",
    "Given your equations for computing the gradients $\\delta^q_j$ it should be quite straightforward to derive the equations for the gradients of the parameters of the model, $\\frac{\\partial \\mathcal{L}^{(n)}}{\\partial W_{ij}}$ and $\\frac{\\partial \\mathcal{L}^{(n)}}{\\partial b_j}$. The gradients for the biases $\\bb$ are given by:\n",
    "\n",
    "$\n",
    "\\frac{\\partial \\mathcal{L}^{(n)}}{\\partial b_j}\n",
    "= \\frac{\\partial \\mathcal{L}^{(n)}}{\\partial \\log q_j}\n",
    "\\frac{\\partial \\log q_j}{\\partial b_j}\n",
    "= \\delta^q_j\n",
    "\\cdot 1\n",
    "= \\delta^q_j\n",
    "$\n",
    "\n",
    "The equation above gives the derivative of $\\mathcal{L}^{(n)}$ w.r.t. a single element of $\\bb$, so the vector $\\nabla_\\bb \\mathcal{L}^{(n)}$ with all derivatives of $\\mathcal{L}^{(n)}$ w.r.t. the bias parameters $\\bb$ is: \n",
    "\n",
    "$\n",
    "\\nabla_\\bb \\mathcal{L}^{(n)} = \\mathbf{\\delta}^q\n",
    "$\n",
    "\n",
    "where $\\mathbf{\\delta}^q$ denotes the vector of size $10 \\times 1$ with elements $\\mathbf{\\delta}_j^q$.\n",
    "\n",
    "The (not fully developed) equation for computing the derivative of $\\mathcal{L}^{(n)}$ w.r.t. a single element $W_{ij}$ of $\\bW$ is:\n",
    "\n",
    "$\n",
    "\\frac{\\partial \\mathcal{L}^{(n)}}{\\partial W_{ij}} =\n",
    "\\frac{\\partial \\mathcal{L}^{(n)}}{\\partial \\log q_j}\n",
    "\\frac{\\partial \\log q_j}{\\partial W_{ij}}\n",
    "= \\mathbf{\\delta}_j^q\n",
    "\\frac{\\partial \\log q_j}{\\partial W_{ij}}\n",
    "$\n",
    "\n",
    "What is $\\frac{\\partial \\log q_j}{\\partial W_{ij}}$? Complete the equation above.\n",
    "\n",
    "If you want, you can give the resulting equation in vector format ($\\nabla_{\\bw_j} \\mathcal{L}^{(n)} = ...$), like we did for $\\nabla_\\bb \\mathcal{L}^{(n)}$.\n",
    "\n",
    "##### Answer: "
   ]
  },
  {
   "cell_type": "markdown",
   "metadata": {},
   "source": [
    "$\\dfrac{\\partial \\log Z}{\\partial Z} = \\dfrac{1}{Z}$\n",
    "\n",
    "$\\dfrac{\\partial Z}{\\partial \\log q_j} = \\dfrac{\\partial \\sum_k q_k}{\\partial \\log q_j} = \\dfrac{\\partial q_j}{\\partial \\log q_j} = \\dfrac{\\partial exp(\\log q_j)}{\\partial \\log q_j} = exp(\\log q_j)$\n",
    "\n",
    "For $j = t^{(n)}$: $\\delta_j^q = 1 - \\dfrac{1}{Z}exp(\\log q_j)$\n",
    "\n",
    "For $j \\neq t^{(n)}$: $\\delta_j^q = -\\dfrac{1}{Z}exp(\\log q_j)$\n",
    "\n",
    "$ \\log q_j = \\mathbf{w}_j^T \\mathbf{x} = b_j + \\sum_{i} W_{ij} x_i \\Rightarrow \\dfrac{\\partial \\log q_j}{\\partial W_{ij}} = x_i \\Rightarrow \\dfrac{\\partial \\mathcal{L}^{(n)}}{\\partial W_{ij}} = \\delta_j^q x_i$"
   ]
  },
  {
   "cell_type": "markdown",
   "metadata": {},
   "source": [
    "### 1.1.2 Implement gradient computations (10 points)\n",
    "\n",
    "Implement the gradient calculations you derived in the previous question. Write a function `logreg_gradient(x, t, w, b)` that returns the gradients $\\nabla_{\\bw_j} \\mathcal{L}^{(n)}$ (for each $j$) and $\\nabla_{\\bb} \\mathcal{L}^{(n)}$, i.e. the first partial derivatives of the log-likelihood w.r.t. the parameters $\\bW$ and $\\bb$, evaluated at a single datapoint (`x`, `t`).\n",
    "The computation will contain roughly the following intermediate variables:\n",
    "\n",
    "$\n",
    "\\log \\bq \\rightarrow Z \\rightarrow \\log \\bp\\,,\\, \\mathbf{\\delta}^q\n",
    "$\n",
    "\n",
    "followed by computation of the gradient vectors $\\nabla_{\\bw_j} \\mathcal{L}^{(n)}$ (contained in a $784 \\times 10$ matrix) and $\\nabla_{\\bb} \\mathcal{L}^{(n)}$ (a $10 \\times 1$ vector).\n"
   ]
  },
  {
   "cell_type": "code",
   "execution_count": 9,
   "metadata": {},
   "outputs": [],
   "source": [
    "def logreg_gradient(x, t, w, b):\n",
    "     log_q = w.transpose().dot(x)+b\n",
    "     Z = np.sum(np.exp(log_q))\n",
    "     delta= -np.exp(log_q)/Z\n",
    "     delta[t]+=1\n",
    "     grad_w = delta[np.newaxis].T.dot(x[np.newaxis]).T\n",
    "     grad_b = delta\n",
    "     return grad_w, grad_b"
   ]
  },
  {
   "cell_type": "code",
   "execution_count": 10,
   "metadata": {},
   "outputs": [],
   "source": [
    "def init_weights(num_of_features, num_of_class):\n",
    "    w = (np.random.random_sample((num_of_features, num_of_class)) - 0.5) * 0.001\n",
    "    b = (np.random.random_sample(num_of_class) - 0.5) * 0.001\n",
    "    return w, b\n",
    "\n",
    "np.random.seed(0)\n",
    "num_of_features = x_train.shape[1]\n",
    "num_of_class = 10"
   ]
  },
  {
   "cell_type": "code",
   "execution_count": 11,
   "metadata": {},
   "outputs": [
    {
     "name": "stdout",
     "output_type": "stream",
     "text": [
      "(784, 10) (10,)\n"
     ]
    }
   ],
   "source": [
    "# Test\n",
    "w, b = init_weights(num_of_features, num_of_class)\n",
    "\n",
    "random_item_id = np.random.randint(x_train.shape[0])\n",
    "grad_w, grad_b = logreg_gradient(x_train[random_item_id], t_train[random_item_id], w, b)\n",
    "print grad_w.shape, grad_b.shape"
   ]
  },
  {
   "cell_type": "markdown",
   "metadata": {},
   "source": [
    "### 1.1.3 Stochastic gradient descent (10 points)\n",
    "\n",
    "Write a function `sgd_iter(x_train, t_train, w, b)` that performs one iteration of stochastic gradient descent (SGD), and returns the new weights. It should go through the trainingset once in randomized order, call `logreg_gradient(x, t, w, b)` for each datapoint to get the gradients, and update the parameters using a small learning rate (e.g. `1E-4`). Note that in this case we're maximizing the likelihood function, so we should actually performing gradient ___ascent___... For more information about SGD, see Bishop 5.2.4 or an online source (i.e. https://en.wikipedia.org/wiki/Stochastic_gradient_descent)"
   ]
  },
  {
   "cell_type": "code",
   "execution_count": 12,
   "metadata": {},
   "outputs": [],
   "source": [
    "def sgd_iter(x_train, t_train, w, b,alpha=1E-4):\n",
    "    ind = np.arange(len(t_train))\n",
    "    np.random.shuffle(ind)\n",
    "\n",
    "    for i in ind:\n",
    "        grad_w,grad_b=logreg_gradient(x_train[i],t_train[i],w,b)\n",
    "        w+=alpha*grad_w\n",
    "        b+=alpha*grad_b\n",
    "\n",
    "    return w,b"
   ]
  },
  {
   "cell_type": "code",
   "execution_count": 13,
   "metadata": {},
   "outputs": [],
   "source": [
    "def compute_log_likelihood(x, t, w, b):\n",
    "    log_q = x.dot(w) + b\n",
    "    a = np.max(log_q, axis=1)\n",
    "    log_Z = a + np.log(np.sum(np.exp((log_q.T - a).T)))\n",
    "    #print log_Z\n",
    "    log_likelihood = np.sum(np.array([log_q[index, value] for (index,), value in np.ndenumerate(t)]) - log_Z)\n",
    "    return log_likelihood"
   ]
  },
  {
   "cell_type": "code",
   "execution_count": 14,
   "metadata": {},
   "outputs": [
    {
     "name": "stdout",
     "output_type": "stream",
     "text": [
      "Likelihood: -656101.475887\n",
      "Likelihood: -586028.559223\n",
      "(784, 10) (10,)\n"
     ]
    }
   ],
   "source": [
    "# Test\n",
    "w, b = init_weights(num_of_features, num_of_class)\n",
    "print 'Likelihood:', compute_log_likelihood(x_train, t_train, w, b)\n",
    "sgd_iter(x_train, t_train, w, b)\n",
    "print 'Likelihood:', compute_log_likelihood(x_train, t_train, w, b)\n",
    "\n",
    "print w.shape, b.shape"
   ]
  },
  {
   "cell_type": "markdown",
   "metadata": {},
   "source": [
    "## 1.2. Train\n",
    "\n",
    "### 1.2.1 Train (10 points)\n",
    "Perform a handful of training iterations through the trainingset. Plot (in one graph) the conditional log-probability of the trainingset and validation set after each iteration.\n"
   ]
  },
  {
   "cell_type": "code",
   "execution_count": 8,
   "metadata": {},
   "outputs": [],
   "source": [
    "def train_iterations(iters,w,b):\n",
    "    l_val=[]\n",
    "    l_tr=[]\n",
    "\n",
    "    # default likelihoods\n",
    "    l_tr.append(compute_log_likelihood(x_train,t_train,w,b))\n",
    "    l_val.append(compute_log_likelihood(x_valid,t_valid,w,b))\n",
    "\n",
    "    for i in range(2,iters+1):\n",
    "       w, b = sgd_iter(x_train, t_train, w, b)\n",
    "       l_tr.append(compute_log_likelihood(x_train,t_train,w,b))\n",
    "       l_val.append(compute_log_likelihood(x_valid,t_valid,w,b))\n",
    "    plt.plot(range(1,iters+1),l_val,'-',color='red',label='Validation set Likelihood')\n",
    "    plt.plot(range(1,iters+1),l_tr,'-',color='blue', label='Training set Likelihood')\n",
    "    plt.legend()\n",
    "    plt.ylabel(\"Likelihood\")\n",
    "    plt.xlabel(\"Iterations\")\n",
    "    plt.show()\n",
    "    return w"
   ]
  },
  {
   "cell_type": "code",
   "execution_count": 19,
   "metadata": {},
   "outputs": [
    {
     "data": {
      "image/png": "[encoded data removed]"
     },
     "output_type": "display_data",
     "metadata": {}
    }
   ],
   "source": [
    "num_of_features = x_train.shape[1]\n",
    "num_of_class = 10\n",
    "w, b = init_weights(num_of_features, num_of_class)\n",
    "\n",
    "random_item_id = np.random.randint(x_train.shape[0])\n",
    "grad_w, grad_b = logreg_gradient(x_train[random_item_id], t_train[random_item_id], w, b)\n",
    "\n",
    "w=train_iterations(20,w,b)"
   ]
  },
  {
   "cell_type": "markdown",
   "metadata": {},
   "source": [
    "### 1.2.2 Visualize weights (10 points)\n",
    "Visualize the resulting parameters $\\bW$ after a few iterations through the training set, by treating each column of $\\bW$ as an image. If you want, you can use or edit the `plot_digits(...)` above."
   ]
  },
  {
   "cell_type": "code",
   "execution_count": 20,
   "metadata": {},
   "outputs": [
    {
     "data": {
      "image/png": "[encoded data removed]"
     },
     "output_type": "display_data",
     "metadata": {}
    }
   ],
   "source": [
    "plot_digits(w.T, numcols=5)"
   ]
  },
  {
   "cell_type": "markdown",
   "metadata": {},
   "source": [
    "### 1.2.3. Visualize the 8 hardest and 8 easiest digits (10 points)\n",
    "Visualize the 8 digits in the validation set with the highest probability of the true class label under the model.\n",
    "Also plot the 8 digits that were assigned the lowest probability.\n",
    "Ask yourself if these results make sense."
   ]
  },
  {
   "cell_type": "code",
   "execution_count": 21,
   "metadata": {},
   "outputs": [
    {
     "data": {
      "image/png": "[encoded data removed]"
     },
     "output_type": "display_data",
     "metadata": {}
    },
    {
     "data": {
      "image/png": "[encoded data removed]"
     },
     "output_type": "display_data",
     "metadata": {}
    }
   ],
   "source": [
    "# Ranking by highest probability is the same like ranking log(q(j = t)), therefore we are taking log_qt to make\n",
    "# it easier from the computational perspective\n",
    "log_q = x_valid.dot(w) + b\n",
    "\n",
    "log_qt = np.array([log_q[index, value] for (index,), value in np.ndenumerate(t_valid)]) \n",
    "sorted_by_log_qt = np.argsort(log_qt)\n",
    "easiest = sorted_by_log_qt[-8:]\n",
    "for i in range(8):\n",
    "    plt.subplot(1, 8, i)\n",
    "    plt.axis('off')\n",
    "    plt.imshow(x_train[easiest[i]].reshape((28, 28)), interpolation='nearest', cmap='Greys')\n",
    "plt.title('Easiest 8 digits')\n",
    "plt.show()\n",
    "\n",
    "hardest = sorted_by_log_qt[:8]\n",
    "for i in range(8):\n",
    "    plt.subplot(1, 8, i)\n",
    "    plt.axis('off')\n",
    "    plt.imshow(x_train[hardest[i]].reshape((28, 28)), interpolation='nearest', cmap='Greys')\n",
    "plt.title('Hardest 8 digits')\n",
    "plt.show()"
   ]
  },
  {
   "cell_type": "markdown",
   "metadata": {},
   "source": [
    "# Part 2. Multilayer perceptron\n",
    "\n",
    "\n",
    "You discover that the predictions by the logistic regression classifier are not good enough for your application: the model is too simple. You want to increase the accuracy of your predictions by using a better model. For this purpose, you're going to use a multilayer perceptron (MLP), a simple kind of neural network. The perceptron wil have a single hidden layer $\\bh$ with $L$ elements. The parameters of the model are $\\bV$ (connections between input $\\bx$ and hidden layer $\\bh$), $\\ba$ (the biases/intercepts of $\\bh$), $\\bW$ (connections between $\\bh$ and $\\log q$) and $\\bb$ (the biases/intercepts of $\\log q$.\n",
    "\n",
    "The conditional probability of the class label $j$ is given by:\n",
    "\n",
    "$\\log p(t = j \\;|\\; \\bx, \\bb, \\bW) = \\log q_j - \\log Z$\n",
    "\n",
    "where $q_j$ are again the unnormalized probabilities per class, and $Z = \\sum_j q_j$ is again the probability normalizing factor. Each $q_j$ is computed using:\n",
    "\n",
    "$\\log q_j = \\bw_j^T \\bh + b_j$\n",
    "\n",
    "where $\\bh$ is a $L \\times 1$ vector with the hidden layer activations (of a hidden layer with size $L$), and $\\bw_j$ is the $j$-th column of $\\bW$ (a $L \\times 10$ matrix). Each element of the hidden layer is computed from the input vector $\\bx$ using:\n",
    "\n",
    "$h_j = \\sigma(\\bv_j^T \\bx + a_j)$\n",
    "\n",
    "where $\\bv_j$ is the $j$-th column of $\\bV$ (a $784 \\times L$ matrix), $a_j$ is the $j$-th element of $\\ba$, and $\\sigma(.)$ is the so-called sigmoid activation function, defined by:\n",
    "\n",
    "$\\sigma(x) = \\frac{1}{1 + \\exp(-x)}$\n",
    "\n",
    "Note that this model is almost equal to the multiclass logistic regression model, but with an extra 'hidden layer' $\\bh$. The activations of this hidden layer can be viewed as features computed from the input, where the feature transformation ($\\bV$ and $\\ba$) is learned.\n",
    "\n",
    "## 2.1 Derive gradient equations (20 points)\n",
    "\n",
    "State (shortly) why $\\nabla_{\\bb} \\mathcal{L}^{(n)}$ is equal to the earlier (multiclass logistic regression) case, and why $\\nabla_{\\bw_j} \\mathcal{L}^{(n)}$ is almost equal to the earlier case.\n",
    "\n",
    "Like in multiclass logistic regression, you should use intermediate variables $\\mathbf{\\delta}_j^q$. In addition, you should use intermediate variables $\\mathbf{\\delta}_j^h = \\frac{\\partial \\mathcal{L}^{(n)}}{\\partial h_j}$.\n",
    "\n",
    "Given an input image, roughly the following intermediate variables should be computed:\n",
    "\n",
    "$\n",
    "\\log \\bq \\rightarrow Z \\rightarrow \\log \\bp \\rightarrow \\mathbf{\\delta}^q \\rightarrow \\mathbf{\\delta}^h\n",
    "$\n",
    "\n",
    "where $\\mathbf{\\delta}_j^h = \\frac{\\partial \\mathcal{L}^{(n)}}{\\partial \\bh_j}$.\n",
    "\n",
    "Give the equations for computing $\\mathbf{\\delta}^h$, and for computing the derivatives of $\\mathcal{L}^{(n)}$ w.r.t. $\\bW$, $\\bb$, $\\bV$ and $\\ba$. \n",
    "\n",
    "You can use the convenient fact that $\\frac{\\partial}{\\partial x} \\sigma(x) = \\sigma(x) (1 - \\sigma(x))$.\n",
    "\n",
    "##### Answer: "
   ]
  },
  {
   "cell_type": "markdown",
   "metadata": {},
   "source": [
    "$\\mathcal{L}^{(n)} = \\log q_j - \\log Z = \\mathbf{w}_j^T \\mathbf{h} + b_j - \\log Z = \\sum_{i=1}^L W_{ij}\\sigma(\\mathbf{v}_i^T \\mathbf{x} + a_i) + b_j - \\log Z = \\sum_{i=1}^L W_{ij}\\sigma(\\sum_{k=1}^{784} v_{ki}x_k + a_i) + b_j - \\log Z$\n",
    "\n",
    "$\\delta^q_j = \\frac{\\partial \\mathcal{L}^{(n)}}{\\partial \\log q_j}$\n",
    "\n",
    "For $j = t^{(n)}$: $\\delta_j^q = 1 - \\dfrac{1}{Z}exp(\\log q_j)$\n",
    "\n",
    "For $j \\neq t^{(n)}$: $\\delta_j^q = -\\dfrac{1}{Z}exp(\\log q_j)$\n",
    "\n",
    "$\\delta_i^h = \\dfrac{\\partial \\mathcal{L}^{(n)}}{\\partial h_i} = \\dfrac{\\partial \\mathcal{L}^{(n)}}{\\partial \\log q_j} \\dfrac{\\partial \\log q_j}{\\partial h_i} = \\delta_j^q W_{ij}$\n",
    "\n",
    "$\\dfrac{\\partial \\mathcal{L}^{(n)}}{\\partial b_j} = \\dfrac{\\partial \\mathcal{L}^{(n)}}{\\partial \\log q_j} \\dfrac{\\partial \\log q_j}{\\partial b_j} = \\delta_j^q$\n",
    "\n",
    "$\\dfrac{\\partial \\mathcal{L}^{(n)}}{\\partial W_{ij}} = \\dfrac{\\partial \\mathcal{L}^{(n)}}{\\partial \\log q_j}\\dfrac{\\partial \\log q_j}{\\partial \\log W_{ij}} = \\delta_j^q h_i$\n",
    "\n",
    "$\\dfrac{\\partial \\mathcal{L}^{(n)}}{\\partial a_i} = \\dfrac{\\partial \\mathcal{L}^{(n)}}{\\partial h_i} \\dfrac{\\partial h_i}{\\partial (\\mathbf{v_i}^T\\mathbf{x} + a_i)}  \\dfrac{\\partial(\\mathbf{v_i}^T\\mathbf{x} + a_i)}{\\partial a_i} = \\delta_i^h \\sigma(\\mathbf{v_i}^T\\mathbf{x} + a_i)(1 - \\sigma(\\mathbf{v_i}^T\\mathbf{x} + a_i)) = \\delta_i^h h_i (1 - h_i)$\n",
    "\n",
    "$\\dfrac{\\partial \\mathcal{L}^{(n)}}{\\partial v_{ki}} = \\dfrac{\\partial \\mathcal{L}^{(n)}}{\\partial h_i} \\dfrac{\\partial h_i}{\\partial(\\mathbf{v_i}^T\\mathbf{x} + a_i)}  \\dfrac{\\partial(\\mathbf{v_i}^T\\mathbf{x} + a_i)}{\\partial a_i} = \\delta_i^h \\sigma(\\mathbf{v_i}^T\\mathbf{x} + a_i)(1 - \\sigma(\\mathbf{v_i}^T\\mathbf{x} + a_i))x_k = \\delta_i^h h_i(1 - h_i)x_k$\n",
    "\n",
    "And the answer for questions in the matrix form will be:\n",
    "\n",
    "1. $\\dfrac{\\partial \\mathcal{L}^{(n)}}{\\partial \\textbf{b}} = \\dfrac{\\partial \\mathcal{L}^{(n)}}{\\partial \\log  \\textbf{ q}} \\dfrac{\\partial \\log \\textbf{ q}}{\\partial \\textbf{b}} = \\dfrac{\\partial \\mathcal{L}^{(n)}}{\\partial \\log \\textbf{q}} = \\mathbf{\\delta}^q $\n",
    "It's the same because we don't change the way we apply bias $\\textbf{b}$, i.e. $\\log \\textbf{q} = \\textbf{W}^T \\textbf{h} +\\textbf{b} $, and therefore our gradients are equivalent. \n",
    "2. $\\dfrac{\\partial \\mathcal{L}^{(n)}}{\\partial \\textbf{w}_j} = \\dfrac{\\partial \\mathcal{L}^{(n)}}{\\partial \\log q_j} \\dfrac{\\partial \\log q_j}{\\partial \\textbf{w}_j}= \\mathbf{\\delta}^q_j \\dfrac{\\partial \\textbf{w}_j^T \\textbf{h} +b_j}{\\partial w_j} = \\mathbf{\\delta}^q_j \\textbf{h}$. \n",
    "It's almost the equal to the earlier case because we have only changed $\\textbf{x}$ to $\\textbf{h}$ in the equation for $q_j$, so now it's $\\log q_j = \\textbf{w}_j^T \\textbf{h} +b_j $, and therefore our gradients will be different in the last term, i.e. previously we had $\\textbf x$ (in the vectorized version), and now we have $\\textbf{h}$ \n",
    "3. $\\dfrac{\\partial \\mathcal{L}^{(n)}}{\\partial h_i} = \\dfrac{\\partial \\mathcal{L}^{(n)}}{\\partial \\log q_j} \\dfrac{\\partial \\log q_j}{\\partial h_i} = \\delta_j^q W_{ij} =\\delta_i^h$, so $\\rightarrow \\dfrac{\\partial \\mathcal{L}^{(n)}}{\\partial \\textbf{h}}=\\delta^h$\n",
    "4. $\\dfrac{\\partial \\mathcal{L}^{(n)}}{\\partial \\textbf{W}} = \\dfrac{\\partial \\mathcal{L}^{(n)}}{\\partial \\log \\textbf q}\\dfrac{\\partial \\log \\textbf q}{\\partial \\log \\textbf W} = \\delta^q \\textbf h$\n",
    "5. $\\dfrac{\\partial \\mathcal{L}^{(n)}}{\\partial \\textbf{V} } = \\dfrac{\\partial \\mathcal{L}^{(n)}}{\\partial \\log \\textbf q}  \\dfrac{ \\partial \\log {\\textbf q}}{\\partial \\textbf h} \\dfrac{\\partial \\textbf h}{\\partial \\textbf V} = \\mathbf{\\delta}^h \\sigma^{'}(\\textbf V^T \\textbf x +\\textbf a) \\textbf x$, where $\\sigma^{'}$ indicates a full derivative of the sigmoid function.\n",
    "6. $\\dfrac{\\partial \\mathcal{L}^{(n)}}{\\partial \\textbf{a} } = \\dfrac{\\partial \\mathcal{L}^{(n)}}{\\partial \\log \\textbf q}  \\dfrac{ \\partial \\log {\\textbf q}}{\\partial \\textbf h} \\dfrac{\\partial \\textbf h}{\\partial \\textbf a}=\\mathbf{\\delta}^h \\sigma^{'}(\\textbf V^T \\textbf x +\\textbf a)$\n"
   ]
  },
  {
   "cell_type": "markdown",
   "metadata": {},
   "source": [
    "## 2.2 MAP optimization (10 points)\n",
    "\n",
    "You derived equations for finding the _maximum likelihood_ solution of the parameters. Explain, in a few sentences, how you could extend this approach so that it optimizes towards a _maximum a posteriori_ (MAP) solution of the parameters, with a Gaussian prior on the parameters. \n",
    "\n",
    "##### Answer: "
   ]
  },
  {
   "cell_type": "markdown",
   "metadata": {},
   "source": [
    "We could add regularisation term to the likelihood, i.e. L-2 norm to prevent overfitting. It's known that an inclusion of the L-2 norm to the likelihood function and finding solutions for the parameters (e.g taking derivatives and optimization) is equavalent to MAP solutions with a Guassian prior on the parameters. \n",
    "\n",
    "Generally our likelihood would take the form:\n",
    "\n",
    "$\\mathcal{L}^{(n)} = \\log q_{t^{(n)}} - \\log Z^{(n)} - \\frac{\\alpha_1}{2} \\sum_{v \\in V} v^2 -  \\frac{\\alpha_2}{2} \\sum_{w \\in W} w^2$\n",
    "\n",
    "For our MLP implementation later we specify our formula more detaily:\n",
    "\n",
    "$\\mathcal{L}^{(n)} = \\log q_j - \\log Z - \\dfrac{\\alpha_1}{2}\\sum_{k=1}^{784}\\sum_{i=0}^L v_{ki}^2 - \\dfrac{\\alpha_2}{2} \\sum_{i=0}^L\\sum_{j=1}^{10} W_{ij}^2 $\n",
    "\n",
    "$\\dfrac{\\partial \\mathcal{L}^{(n)}}{\\partial b_j} = \\delta_j^q$\n",
    "\n",
    "$\\dfrac{\\partial \\mathcal{L}^{(n)}}{\\partial W_{ij}} = \\delta_j^q h_i - \\alpha_2 W_{ij}$\n",
    "\n",
    "$\\dfrac{\\partial \\mathcal{L}^{(n)}}{\\partial a_i} = \\delta_i^h h_i (1 - h_i)$\n",
    "\n",
    "$\\dfrac{\\partial \\mathcal{L}^{(n)}}{\\partial v_{ki}} = \\delta_i^h h_i (1 - h_i)x_k - \\alpha_1 v_{ki}$\n",
    "\n",
    "<!-- Bishop 5.5.1 Section -->"
   ]
  },
  {
   "cell_type": "markdown",
   "metadata": {},
   "source": [
    "## 2.3. Implement and train a MLP (15 points)\n",
    "\n",
    "Implement a MLP model with a single hidden layer, and code to train the model."
   ]
  },
  {
   "cell_type": "code",
   "execution_count": 9,
   "metadata": {},
   "outputs": [],
   "source": [
    "def mlperceptron_gradient(x, t, W, b, V, a, a1=0.001, a2=0.001):\n",
    "    h = 1 / (1 + np.exp(-x.dot(V) - a))\n",
    "    log_q = h.dot(W) + b\n",
    "\n",
    "    a = np.max(log_q)\n",
    "    logZ = a + np.log(np.sum(np.exp(log_q - a)))\n",
    "    Z = np.exp(logZ) \n",
    "\n",
    "    grad_b = -np.exp(log_q) / Z\n",
    "    grad_b[t] += 1\n",
    "\n",
    "    grad_W = h[np.newaxis].T.dot(grad_b[np.newaxis]) - a2 * W\n",
    "\n",
    "    grad_h = W[:,t].dot(grad_b[t])\n",
    "    grad_a = grad_h * h * (1 - h)\n",
    "\n",
    "    grad_V = x[np.newaxis].T.dot(grad_a[np.newaxis]) - a1 * V\n",
    "    return grad_W, grad_b, grad_V, grad_a\n",
    "\n",
    "def init_mlperceptron_weights(num_of_features, num_of_class, L):\n",
    "    W = (np.random.random_sample((L, num_of_class)) - 0.5) * 0.001\n",
    "    b = (np.random.random_sample(num_of_class) - 0.5) * 0.001\n",
    "    V = (np.random.random_sample((num_of_features, L)) - 0.5) * 0.001\n",
    "    a = (np.random.random_sample(L) - 0.5) * 0.001\n",
    "    return W, b, V, a"
   ]
  },
  {
   "cell_type": "code",
   "execution_count": 10,
   "metadata": {},
   "outputs": [],
   "source": [
    "def sgd_mlperceptron_iter(x_train, t_train, W, b, V, a, a1=0.001, a2=0.001, lr=0.001):\n",
    "    indexes = np.arange(len(x_train))\n",
    "    np.random.shuffle(indexes)\n",
    "\n",
    "    for index in indexes:\n",
    "        grad_W, grad_b, grad_V, grad_a = mlperceptron_gradient(x_train[index], t_train[index], W, b, V, a, a1, a2)\n",
    "        W += lr * grad_W\n",
    "        b += lr * grad_b\n",
    "        V += lr * grad_V\n",
    "        a += lr * grad_a"
   ]
  },
  {
   "cell_type": "code",
   "execution_count": 15,
   "metadata": {},
   "outputs": [],
   "source": [
    "def compute_log_likelihood(x, t, W, b, V, a):\n",
    "    h = 1 / (1 + np.exp(-x.dot(V) - a))\n",
    "    log_q = h.dot(W) + b\n",
    "\n",
    "    a = np.max(log_q)\n",
    "    log_Z = a + np.log(np.sum(np.exp(log_q - a)))\n",
    "\n",
    "    log_likelihood = np.sum(np.array([log_q[index, value] for (index,), value in np.ndenumerate(t)]) - log_Z)\n",
    "    return log_likelihood"
   ]
  },
  {
   "cell_type": "code",
   "execution_count": 12,
   "metadata": {},
   "outputs": [],
   "source": [
    "import time\n",
    "def train_mlperceptron(W, b, V, a, a1=0.001, a2=0.001, lr=0.001, num_iter=20, cl=True):\n",
    "    loglik_train = []\n",
    "    if cl:\n",
    "        loglik_train.append(compute_log_likelihood(x_train, t_train, W, b, V, a))\n",
    "    for i in xrange(num_iter):\n",
    "        t1 = time.time()\n",
    "        sgd_mlperceptron_iter(x_train, t_train, W, b, V, a, a1, a2, lr)\n",
    "        print 'dt =', (time.time() - t1)\n",
    "        if cl:\n",
    "            loglik_train.append(compute_log_likelihood(x_train, t_train, W, b, V, a))\n",
    "\n",
    "    return loglik_train"
   ]
  },
  {
   "cell_type": "code",
   "execution_count": 16,
   "metadata": {},
   "outputs": [],
   "source": [
    "def predict_mlperceptron(W, b, V, a, x):\n",
    "    h = 1 / (1 + np.exp(-x.dot(V) - a))\n",
    "    log_q = h.dot(W) + b\n",
    "    return np.argmax(log_q, axis=1)"
   ]
  },
  {
   "cell_type": "markdown",
   "metadata": {},
   "source": [
    "We got 91.9% of accuracy on validation set without model selection:"
   ]
  },
  {
   "cell_type": "code",
   "execution_count": 18,
   "metadata": {},
   "outputs": [
    {
     "name": "stdout",
     "output_type": "stream",
     "text": [
      "dt = 19.1295800209\n",
      "dt = 18.5351212025\n",
      "dt = 17.9935390949\n",
      "dt = 16.5828309059\n",
      "dt = 16.5637030602\n",
      "dt = 16.3944370747\n",
      "dt = 16.6506800652\n",
      "dt = 16.6798601151\n",
      "dt = 16.7105350494\n",
      "dt = 16.6627151966\n",
      "dt = 16.6595449448\n",
      "dt = 16.6239790916\n",
      "dt = 17.137887001\n",
      "dt = 16.7975020409\n",
      "dt = 16.9959731102\n",
      "dt = 16.5822629929\n",
      "dt = 16.6360449791\n",
      "dt = 16.5408799648\n",
      "dt = 16.59709692\n",
      "dt = 16.8761200905\n",
      "training set\n",
      "0.91354\n",
      "validation set\n",
      "0.9193\n"
     ]
    },
    {
     "data": {
      "image/png": "[encoded data removed]"
     },
     "output_type": "display_data",
     "metadata": {}
    }
   ],
   "source": [
    "# whole test\n",
    "# training \n",
    "L=50\n",
    "num_of_features = x_train.shape[1]\n",
    "num_of_class = 10\n",
    "\n",
    "W, b, V, a = init_mlperceptron_weights(num_of_features, num_of_class, L)\n",
    "likelihood = train_mlperceptron(W, b, V, a,num_iter=20)\n",
    "\n",
    "r = np.arange(len(likelihood))\n",
    "figure = plt.figure()\n",
    "figure.set_size_inches((14, 10))\n",
    "plt.plot(r, likelihood)\n",
    "plt.title('log likelihood changes for the training set')\n",
    "plt.ylabel('Likelihood')\n",
    "plt.xlabel('Iteration')\n",
    "plt.grid(True)\n",
    "\n",
    "\n",
    "# training set \n",
    "prediction = predict_mlperceptron(W, b, V, a, x_train)\n",
    "correctness = t_train == prediction\n",
    "accuracy = len(correctness[correctness == True]) / float(len(t_train))\n",
    "print 'training set'\n",
    "print accuracy\n",
    "\n",
    "# validation set\n",
    "prediction = predict_mlperceptron(W, b, V, a, x_valid)\n",
    "correctness = t_valid == prediction\n",
    "accuracy = len(correctness[correctness == True]) / float(len(t_valid))\n",
    "print 'validation set'\n",
    "print accuracy"
   ]
  },
  {
   "cell_type": "code",
   "execution_count": 19,
   "metadata": {},
   "outputs": [
    {
     "data": {
      "image/png": "[encoded data removed]"
     },
     "output_type": "display_data",
     "metadata": {}
    }
   ],
   "source": [
    "figure = plt.figure()\n",
    "figure.set_size_inches((16, 10))\n",
    "plot_digits(V.T, numcols=5)"
   ]
  },
  {
   "cell_type": "markdown",
   "metadata": {},
   "source": [
    "### 2.3.1. Less than 250 misclassifications on the test set (10 bonus points)\n",
    "\n",
    "You receive an additional 10 bonus points if you manage to train a model with very high accuracy: at most 2.5% misclasified digits on the test set. Note that the test set contains 10000 digits, so you model should misclassify at most 250 digits. This should be achievable with a MLP model with one hidden layer. See results of various models at : `http://yann.lecun.com/exdb/mnist/index.html`. To reach such a low accuracy, you probably need to have a very high $L$ (many hidden units), probably $L > 200$, and apply a strong Gaussian prior on the weights. In this case you are allowed to use the validation set for training.\n",
    "You are allowed to add additional layers, and use convolutional networks, although that is probably not required to reach 2.5% misclassifications."
   ]
  },
  {
   "cell_type": "code",
   "metadata": {},
   "outputs": [
    {
     "name": "stdout",
     "output_type": "stream",
     "text": [
      "dt = 36.1404809952\n",
      "dt = 36.4526309967\n",
      "dt = 36.081289053\n",
      "dt = 35.7838938236\n",
      "dt = 35.6864190102\n",
      "L = 150 a1 = 0.001 a2 = 0.001 accuracy = 0.8807\n",
      "dt = 59.0064771175\n",
      "dt = 59.9170291424\n",
      "dt = 59.9129788876\n",
      "dt = 58.1051089764\n",
      "dt = 59.1668610573\n",
      "L = 200 a1 = 0.001 a2 = 0.001 accuracy = 0.8813\n",
      "dt = 94.0111758709\n",
      "dt = 91.4698078632\n",
      "dt = 85.9305830002\n",
      "dt = 85.7214310169\n",
      "dt = 91.5173709393\n",
      "L = 250 a1 = 0.001 a2 = 0.001 accuracy = 0.8806\n",
      "dt = 115.118833065\n",
      "dt = 112.193403006\n",
      "dt = 110.160282135\n",
      "dt = 110.108178854\n",
      "dt = 110.097103119\n",
      "L = 300 a1 = 0.001 a2 = 0.001 accuracy = 0.8789\n",
      "dt = 34.7444028854\n",
      "dt = 35.1943128109\n",
      "dt = 35.2584700584\n",
      "dt = 35.273624897\n",
      "dt = 35.2362449169\n",
      "L = 150 a1 = 0.001 a2 = 0.005 accuracy = 0.8738\n",
      "dt = 57.7591640949\n",
      "dt = 57.6998641491\n",
      "dt = 57.3350760937\n",
      "dt = 58.3718030453\n",
      "dt = 57.7873208523\n",
      "L = 200 a1 = 0.001 a2 = 0.005 accuracy = 0.8779\n",
      "dt = 85.1471838951\n",
      "dt = 85.2267768383\n",
      "dt = 85.265212059\n",
      "dt = 85.0255630016\n",
      "dt = 84.4933559895\n",
      "L = 250 a1 = 0.001 a2 = 0.005 accuracy = 0.8761\n",
      "dt = 120.142332077\n",
      "dt = 122.890453815\n",
      "dt ="
     ]
    }
   ],
   "source": [
    "# Ignore this cell if you don't want to wait for a century\n",
    "best_L = 0\n",
    "best_a1 = 0\n",
    "best_a2 = 0\n",
    "best_accuracy = 0\n",
    "\n",
    "for a1 in [0.001, 0.005, 0.01]:\n",
    "    for a2 in [0.001, 0.005, 0.01]:\n",
    "        for L in [150, 200, 250, 300]:\n",
    "            np.random.seed(0)\n",
    "            W, b, V, a = init_mlperceptron_weights(num_of_features, num_of_class, L)\n",
    "            train_mlperceptron(W, b, V, a, a1=a1, a2=a2, num_iter=5, cl=False)\n",
    "            prediction = predict_mlperceptron(W, b, V, a, x_valid)\n",
    "            correctness = t_valid == prediction\n",
    "            accuracy = len(correctness[correctness == True]) / float(len(t_valid))\n",
    "            print 'L =', L, 'a1 =', a1, 'a2 =', a2, 'accuracy =', accuracy\n",
    "            if accuracy > best_accuracy:\n",
    "                best_L = L\n",
    "                best_a1 = a1\n",
    "                best_a2 = a2\n",
    "                best_accuracy = accuracy\n",
    "\n",
    "print best_a1, best_a2, best_L"
   ]
  },
  {
   "cell_type": "code",
   "execution_count": 28,
   "metadata": {},
   "outputs": [
    {
     "name": "stdout",
     "output_type": "stream",
     "text": [
      "dt = 64.8666241169\n",
      "dt = 64.7134349346\n",
      "dt = 64.4661099911\n",
      "dt = 64.2972989082\n",
      "dt = 64.8289330006\n",
      "dt = 64.6778249741\n",
      "dt = 65.1156840324\n",
      "dt = 64.2937319279\n",
      "dt = 64.8534121513\n",
      "dt = 64.4524497986\n",
      "dt = 64.1453700066\n",
      "dt = 64.9153909683\n",
      "dt = 64.5796968937\n",
      "dt = 64.261963129\n",
      "dt = 63.4503080845\n",
      "dt = 62.8272130489\n",
      "dt = 63.8530681133\n",
      "dt = 64.3897378445\n",
      "dt = 64.5703201294\n",
      "dt = 64.4503500462\n"
     ]
    },
    {
     "data": {
      "text/plain": [
       "[]"
      ]
     },
     "execution_count": 28,
     "output_type": "execute_result",
     "metadata": {}
    }
   ],
   "source": [
    "np.random.seed(0)\n",
    "best_a1 = 0.001\n",
    "best_a2 = 0.001\n",
    "best_L = 200\n",
    "W, b, V, a = init_mlperceptron_weights(num_of_features, num_of_class, best_L)\n",
    "# L = 150 a1 = 0.001 a2 = 0.001 accuracy = 0.8807\n",
    "# L = 200 a1 = 0.001 a2 = 0.001 accuracy = 0.8813\n",
    "# L = 250 a1 = 0.001 a2 = 0.001 accuracy = 0.8806\n",
    "# L = 300 a1 = 0.001 a2 = 0.001 accuracy = 0.8789\n",
    "# L = 150 a1 = 0.001 a2 = 0.005 accuracy = 0.8738\n",
    "# L = 200 a1 = 0.001 a2 = 0.005 accuracy = 0.8779\n",
    "# L = 250 a1 = 0.001 a2 = 0.005 accuracy = 0.8761\n",
    "\n",
    "train_mlperceptron(W, b, V, a, a1=best_a1, a2=best_a2, num_iter=20, cl=False)"
   ]
  },
  {
   "cell_type": "code",
   "execution_count": 39,
   "metadata": {},
   "outputs": [
    {
     "name": "stdout",
     "output_type": "stream",
     "text": [
      "0.9179\n"
     ]
    }
   ],
   "source": [
    "prediction = predict_mlperceptron(W, b, V, a, x_valid)\n",
    "correctness = t_valid == prediction\n",
    "accuracy = len(correctness[correctness == True]) / float(len(t_valid))\n",
    "print accuracy"
   ]
  },
  {
   "cell_type": "code",
   "execution_count": 30,
   "metadata": {},
   "outputs": [
    {
     "name": "stdout",
     "output_type": "stream",
     "text": [
      "dt = 55.5144901276\n",
      "dt = 55.3634490967\n",
      "dt = 55.3930630684\n",
      "dt = 54.1291520596\n",
      "dt = 54.125690937\n"
     ]
    },
    {
     "data": {
      "text/plain": [
       "[]"
      ]
     },
     "execution_count": 30,
     "output_type": "execute_result",
     "metadata": {}
    }
   ],
   "source": [
    "W1 = np.copy(W)\n",
    "b1 = np.copy(b)\n",
    "V1 = np.copy(V)\n",
    "a1 = np.copy(a)\n",
    "train_mlperceptron(W1, b1, V1, a1, a1=best_a1, a2=best_a2, num_iter=5, cl=False)"
   ]
  },
  {
   "cell_type": "code",
   "execution_count": 40,
   "metadata": {},
   "outputs": [
    {
     "name": "stdout",
     "output_type": "stream",
     "text": [
      "0.92\n"
     ]
    }
   ],
   "source": [
    "prediction = predict_mlperceptron(W1, b1, V1, a1, x_valid)\n",
    "correctness = t_valid == prediction\n",
    "accuracy = len(correctness[correctness == True]) / float(len(t_valid))\n",
    "print accuracy"
   ]
  },
  {
   "cell_type": "code",
   "execution_count": 32,
   "metadata": {},
   "outputs": [
    {
     "name": "stdout",
     "output_type": "stream",
     "text": [
      "dt = 54.5731868744\n",
      "dt = 55.0300350189\n",
      "dt = 54.8870930672\n",
      "dt = 54.5760028362\n",
      "dt = 54.5074689388\n"
     ]
    },
    {
     "data": {
      "text/plain": [
       "[]"
      ]
     },
     "execution_count": 32,
     "output_type": "execute_result",
     "metadata": {}
    }
   ],
   "source": [
    "W2 = np.copy(W1)\n",
    "b2 = np.copy(b1)\n",
    "V2 = np.copy(V1)\n",
    "a2 = np.copy(a1)\n",
    "train_mlperceptron(W2, b2, V2, a2, a1=best_a1, a2=best_a2, num_iter=5, cl=False)"
   ]
  },
  {
   "cell_type": "code",
   "execution_count": 41,
   "metadata": {},
   "outputs": [
    {
     "name": "stdout",
     "output_type": "stream",
     "text": [
      "0.9205\n"
     ]
    }
   ],
   "source": [
    "prediction = predict_mlperceptron(W2, b2, V2, a2, x_valid)\n",
    "correctness = t_valid == prediction\n",
    "accuracy = len(correctness[correctness == True]) / float(len(t_valid))\n",
    "print accuracy"
   ]
  }
 ],
 "metadata": {
  "kernelspec": {
   "display_name": "Python 2",
   "language": "python",
   "name": "python2"
  },
  "language_info": {
   "codemirror_mode": {
    "name": "ipython",
    "version": 2.0
   },
   "file_extension": ".py",
   "mimetype": "text/x-python",
   "name": "python",
   "nbconvert_exporter": "python",
   "pygments_lexer": "ipython2",
   "version": "2.7.10"
  }
 },
 "nbformat": 4,
 "nbformat_minor": 0
}