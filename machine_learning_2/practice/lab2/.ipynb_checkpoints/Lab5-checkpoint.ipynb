{
 "cells": [
  {
   "cell_type": "markdown",
   "metadata": {},
   "source": [
    "# Lab 2: Inference in Graphical Models\n",
    "\n",
    "### Machine Learning 2, 2016\n",
    "\n",
    "* The lab exercises should be made in groups of two people.\n",
    "* The deadline is Sunday, April 24, 23:59.\n",
    "* Assignment should be sent to t.s.cohen at uva dot nl (Taco Cohen). The subject line of your email should be \"[ML2_2016] lab#_lastname1\\_lastname2\". \n",
    "* Put your and your teammate's names in the body of the email\n",
    "* Attach the .IPYNB (IPython Notebook) file containing your code and answers. Naming of the file follows the same rule as the subject line.\n",
    "\n",
    "Notes on implementation:\n",
    "\n",
    "* You should write your code and answers in an IPython Notebook: http://ipython.org/notebook.html. If you have problems, please contact us.\n",
    "* Among the first lines of your notebook should be \"%pylab inline\". This imports all required modules, and your plots will appear inline.\n",
    "* NOTE: test your code and make sure we can run your notebook / scripts!"
   ]
  },
  {
   "cell_type": "markdown",
   "metadata": {},
   "source": [
    "### Introduction\n",
    "In this assignment, we will implement the sum-product and max-sum algorithms for factor graphs over discrete variables. The relevant theory is covered in chapter 8 of Bishop's PRML book, in particular section 8.4. Read this chapter carefuly before continuing!\n",
    "\n",
    "We will first implement sum-product and max-sum and apply it to a simple poly-tree structured factor graph for medical diagnosis. Then, we will implement a loopy version of the algorithms and use it for image denoising.\n",
    "\n",
    "For this assignment we recommended you stick to numpy ndarrays (constructed with np.array, np.zeros, np.ones, etc.) as opposed to numpy matrices, because arrays can store n-dimensional arrays whereas matrices only work for 2d arrays. We need n-dimensional arrays in order to store conditional distributions with more than 1 conditioning variable. If you want to perform matrix multiplication on arrays, use the np.dot function; all infix operators including *, +, -, work element-wise on arrays."
   ]
  },
  {
   "cell_type": "markdown",
   "metadata": {},
   "source": [
    "## Part 1: The sum-product algorithm\n",
    "\n",
    "We will implement a datastructure to store a factor graph and to facilitate computations on this graph. Recall that a factor graph consists of two types of nodes, factors and variables. Below you will find some classes for these node types to get you started. Carefully inspect this code and make sure you understand what it does; you will have to build on it later."
   ]
  },
  {
   "cell_type": "code",
   "execution_count": null,
   "metadata": {
    "collapsed": false
   },
   "outputs": [],
   "source": [
    "%pylab inline\n",
    "\n",
    "np.set_printoptions(precision=4)\n",
    "\n",
    "class Node(object):\n",
    "    \"\"\"\n",
    "    Base-class for Nodes in a factor graph. Only instantiate sub-classes of Node.\n",
    "    \"\"\"\n",
    "    def __init__(self, name):\n",
    "        # A name for this Node, for printing purposes\n",
    "        self.name = name\n",
    "        \n",
    "        # Neighbours in the graph, identified with their index in this list.\n",
    "        # i.e. self.neighbours contains neighbour 0 through len(self.neighbours) - 1.\n",
    "        self.neighbours = []\n",
    "        \n",
    "        # Reset the node-state (not the graph topology)\n",
    "        self.reset()\n",
    "        \n",
    "    def reset(self):\n",
    "        # Incoming messages; a dictionary mapping neighbours to messages.\n",
    "        # That is, it maps  Node -> np.ndarray.\n",
    "        self.in_msgs = {}\n",
    "        \n",
    "        # A set of neighbours for which this node has pending messages.\n",
    "        # We use a python set object so we don't have to worry about duplicates.\n",
    "        self.pending = set([])\n",
    "\n",
    "    def add_neighbour(self, nb):\n",
    "        self.neighbours.append(nb)\n",
    "\n",
    "    def send_sp_msg(self, other):\n",
    "        # To be implemented in subclass.\n",
    "        raise Exception('Method send_sp_msg not implemented in base-class Node')\n",
    "   \n",
    "    def send_ms_msg(self, other):\n",
    "        # To be implemented in subclass.\n",
    "        raise Exception('Method send_ms_msg not implemented in base-class Node')\n",
    "    \n",
    "    def receive_msg(self, other, msg):\n",
    "        # Store the incomming message, replacing previous messages from the same node\n",
    "        self.in_msgs[other] = msg\n",
    "\n",
    "        # TODO: add pending messages\n",
    "        # self.pending.update(...)\n",
    "    \n",
    "    def __str__(self):\n",
    "        # This is printed when using 'print node_instance'\n",
    "        return self.name\n",
    "\n",
    "\n",
    "class Variable(Node):\n",
    "    def __init__(self, name, num_states):\n",
    "        \"\"\"\n",
    "        Variable node constructor.\n",
    "        Args:\n",
    "            name: a name string for this node. Used for printing. \n",
    "            num_states: the number of states this variable can take.\n",
    "            Allowable states run from 0 through (num_states - 1).\n",
    "            For example, for a binary variable num_states=2,\n",
    "            and the allowable states are 0, 1.\n",
    "        \"\"\"\n",
    "        self.num_states = num_states\n",
    "        \n",
    "        # Call the base-class constructor\n",
    "        super(Variable, self).__init__(name)\n",
    "    \n",
    "    def set_observed(self, observed_state):\n",
    "        \"\"\"\n",
    "        Set this variable to an observed state.\n",
    "        Args:\n",
    "            observed_state: an integer value in [0, self.num_states - 1].\n",
    "        \"\"\"\n",
    "        # Observed state is represented as a 1-of-N variable\n",
    "        # Could be 0.0 for sum-product, but log(0.0) = -inf so a tiny value is preferable for max-sum\n",
    "        self.observed_state[:] = 0.000001\n",
    "        self.observed_state[observed_state] = 1.0\n",
    "        \n",
    "    def set_latent(self):\n",
    "        \"\"\"\n",
    "        Erase an observed state for this variable and consider it latent again.\n",
    "        \"\"\"\n",
    "        # No state is preferred, so set all entries of observed_state to 1.0\n",
    "        # Using this representation we need not differentiate between observed and latent\n",
    "        # variables when sending messages.\n",
    "        self.observed_state[:] = 1.0\n",
    "        \n",
    "    def reset(self):\n",
    "        super(Variable, self).reset()\n",
    "        self.observed_state = np.ones(self.num_states)\n",
    "        \n",
    "    def marginal(self, Z=None):\n",
    "        \"\"\"\n",
    "        Compute the marginal distribution of this Variable.\n",
    "        It is assumed that message passing has completed when this function is called.\n",
    "        Args:\n",
    "            Z: an optional normalization constant can be passed in. If None is passed, Z is computed.\n",
    "        Returns: marginal, Z. The first is a numpy array containing the normalized marginal distribution.\n",
    "         Z is either equal to the input Z, or computed in this function (if Z=None was passed).\n",
    "        \"\"\"\n",
    "        # TODO: compute marginal\n",
    "        return None, Z\n",
    "    \n",
    "    def send_sp_msg(self, other):\n",
    "        # TODO: implement Variable -> Factor message for sum-product\n",
    "        pass\n",
    "   \n",
    "    def send_ms_msg(self, other):\n",
    "        # TODO: implement Variable -> Factor message for max-sum\n",
    "        pass\n",
    "\n",
    "class Factor(Node):\n",
    "    def __init__(self, name, f, neighbours):\n",
    "        \"\"\"\n",
    "        Factor node constructor.\n",
    "        Args:\n",
    "            name: a name string for this node. Used for printing\n",
    "            f: a numpy.ndarray with N axes, where N is the number of neighbours.\n",
    "               That is, the axes of f correspond to variables, and the index along that axes corresponds to a value of that variable.\n",
    "               Each axis of the array should have as many entries as the corresponding neighbour variable has states.\n",
    "            neighbours: a list of neighbouring Variables. Bi-directional connections are created.\n",
    "        \"\"\"\n",
    "        # Call the base-class constructor\n",
    "        super(Factor, self).__init__(name)\n",
    "\n",
    "        assert len(neighbours) == f.ndim, 'Factor function f should accept as many arguments as this Factor node has neighbours'\n",
    "        \n",
    "        for nb_ind in range(len(neighbours)):\n",
    "            nb = neighbours[nb_ind]\n",
    "            assert f.shape[nb_ind] == nb.num_states, 'The range of the factor function f is invalid for input %i %s' % (nb_ind, nb.name)\n",
    "            self.add_neighbour(nb)\n",
    "            nb.add_neighbour(self)\n",
    "\n",
    "        self.f = f\n",
    "        \n",
    "    def send_sp_msg(self, other):\n",
    "        # TODO: implement Factor -> Variable message for sum-product\n",
    "        pass\n",
    "   \n",
    "    def send_ms_msg(self, other):\n",
    "        # TODO: implement Factor -> Variable message for max-sum\n",
    "        pass\n"
   ]
  },
  {
   "cell_type": "markdown",
   "metadata": {},
   "source": [
    "### 1.1 Instantiate network (10 points)\n",
    "Convert the directed graphical model (\"Bayesian Network\") shown below to a factor graph. Instantiate this graph by creating Variable and Factor instances and linking them according to the graph structure. \n",
    "To instantiate the factor graph, first create the Variable nodes and then create Factor nodes, passing a list of neighbour Variables to each Factor.\n",
    "Use the following prior and conditional probabilities.\n",
    "\n",
    "$$\n",
    "p(\\verb+Influenza+) = 0.05 \\\\\\\\\n",
    "p(\\verb+Smokes+) = 0.2 \\\\\\\\\n",
    "$$\n",
    "\n",
    "$$\n",
    "p(\\verb+SoreThroat+ = 1 | \\verb+Influenza+ = 1) = 0.3 \\\\\\\\\n",
    "p(\\verb+SoreThroat+ = 1 | \\verb+Influenza+ = 0) = 0.001 \\\\\\\\\n",
    "p(\\verb+Fever+ = 1| \\verb+Influenza+ = 1) = 0.9 \\\\\\\\\n",
    "p(\\verb+Fever+ = 1| \\verb+Influenza+ = 0) = 0.05 \\\\\\\\\n",
    "p(\\verb+Bronchitis+ = 1 | \\verb+Influenza+ = 1, \\verb+Smokes+ = 1) = 0.99 \\\\\\\\\n",
    "p(\\verb+Bronchitis+ = 1 | \\verb+Influenza+ = 1, \\verb+Smokes+ = 0) = 0.9 \\\\\\\\\n",
    "p(\\verb+Bronchitis+ = 1 | \\verb+Influenza+ = 0, \\verb+Smokes+ = 1) = 0.7 \\\\\\\\\n",
    "p(\\verb+Bronchitis+ = 1 | \\verb+Influenza+ = 0, \\verb+Smokes+ = 0) = 0.0001 \\\\\\\\\n",
    "p(\\verb+Coughing+ = 1| \\verb+Bronchitis+ = 1) = 0.8 \\\\\\\\\n",
    "p(\\verb+Coughing+ = 1| \\verb+Bronchitis+ = 0) = 0.07 \\\\\\\\\n",
    "p(\\verb+Wheezing+ = 1| \\verb+Bronchitis+ = 1) = 0.6 \\\\\\\\\n",
    "p(\\verb+Wheezing+ = 1| \\verb+Bronchitis+ = 0) = 0.001 \\\\\\\\\n",
    "$$"
   ]
  },
  {
   "cell_type": "code",
   "execution_count": null,
   "metadata": {
    "collapsed": false
   },
   "outputs": [],
   "source": [
    "from IPython.core.display import Image \n",
    "Image(filename='bn.png') "
   ]
  },
  {
   "cell_type": "code",
   "execution_count": null,
   "metadata": {
    "collapsed": true
   },
   "outputs": [],
   "source": [
    "# Variables\n",
    "def init_variables():\n",
    "    I = Variable('Influenza', 2)\n",
    "    S = Variable('Smokes', 2)\n",
    "    ST = Variable('SoreThroat', 2)\n",
    "    F = Variable('Fever', 2)\n",
    "    B = Variable('Bronchitits', 2)\n",
    "    C = Variable('Coughing', 2)\n",
    "    W = Variable('Wheezing', 2)\n",
    "    return I, S, ST, F, B, C, W"
   ]
  },
  {
   "cell_type": "markdown",
   "metadata": {},
   "source": [
    "$$\n",
    "p(\\verb+SoreThroat+ = 1 | \\verb+Influenza+ = 1) = 0.3 \\\\\\\\\n",
    "p(\\verb+SoreThroat+ = 1 | \\verb+Influenza+ = 0) = 0.001\n",
    "$$"
   ]
  },
  {
   "cell_type": "code",
   "execution_count": null,
   "metadata": {
    "collapsed": false
   },
   "outputs": [],
   "source": [
    "# Factor nodes\n",
    "\n",
    "def init_f1(I, ST):\n",
    "    # Order: I, ST\n",
    "    f1_weights = np.empty((2, 2))\n",
    "\n",
    "    f1_weights[1, 1] = 0.3\n",
    "    f1_weights[0, 1] = 0.001\n",
    "\n",
    "    f1_weights[:, 0] = 1 - f1_weights[:, 1]\n",
    "\n",
    "    f1 = Factor('f1', f1_weights, [I, ST])\n",
    "    return f1"
   ]
  },
  {
   "cell_type": "markdown",
   "metadata": {},
   "source": [
    "$$\n",
    "p(\\verb+Fever+ = 1| \\verb+Influenza+ = 1) = 0.9 \\\\\\\\\n",
    "p(\\verb+Fever+ = 1| \\verb+Influenza+ = 0) = 0.05\n",
    "$$"
   ]
  },
  {
   "cell_type": "code",
   "execution_count": null,
   "metadata": {
    "collapsed": false
   },
   "outputs": [],
   "source": [
    "def init_f2(I, F):\n",
    "    # Order: I, F\n",
    "    f2_weights = np.empty((2, 2))\n",
    "\n",
    "    f2_weights[1, 1]  = 0.9\n",
    "    f2_weights[0, 1] = 0.05\n",
    "\n",
    "    f2_weights[:, 0] = 1 - f2_weights[:, 1]\n",
    "\n",
    "    f2 = Factor('f2', f2_weights, [I, F])\n",
    "    return f2"
   ]
  },
  {
   "cell_type": "markdown",
   "metadata": {},
   "source": [
    "$$\n",
    "p(\\verb+Bronchitis+ = 1 | \\verb+Influenza+ = 1, \\verb+Smokes+ = 1) = 0.99 \\\\\\\\\n",
    "p(\\verb+Bronchitis+ = 1 | \\verb+Influenza+ = 1, \\verb+Smokes+ = 0) = 0.9 \\\\\\\\\n",
    "p(\\verb+Bronchitis+ = 1 | \\verb+Influenza+ = 0, \\verb+Smokes+ = 1) = 0.7 \\\\\\\\\n",
    "p(\\verb+Bronchitis+ = 1 | \\verb+Influenza+ = 0, \\verb+Smokes+ = 0) = 0.0001\n",
    "$$"
   ]
  },
  {
   "cell_type": "code",
   "execution_count": null,
   "metadata": {
    "collapsed": false
   },
   "outputs": [],
   "source": [
    "def init_f3(I, S, B):\n",
    "    # Order: I, S, B\n",
    "    f3_weights = np.empty((2, 2, 2))\n",
    "\n",
    "    f3_weights[1, 1, 1] = 0.99\n",
    "    f3_weights[1, 0, 1] = 0.9\n",
    "    f3_weights[0, 1, 1] = 0.7\n",
    "    f3_weights[0, 0, 1] = 0.0001\n",
    "\n",
    "    f3_weights[:, :, 0] = 1 - f3_weights[:, :, 1]\n",
    "    \n",
    "    f3 = Factor('f3', f3_weights, [I, S, B])\n",
    "    return f3"
   ]
  },
  {
   "cell_type": "markdown",
   "metadata": {},
   "source": [
    "$$\n",
    "p(\\verb+Coughing+ = 1| \\verb+Bronchitis+ = 1) = 0.8 \\\\\\\\\n",
    "p(\\verb+Coughing+ = 1| \\verb+Bronchitis+ = 0) = 0.07\n",
    "$$"
   ]
  },
  {
   "cell_type": "code",
   "execution_count": null,
   "metadata": {
    "collapsed": false
   },
   "outputs": [],
   "source": [
    "def init_f4(B, C):\n",
    "    # Order: B, C\n",
    "    f4_weights = np.empty((2, 2))\n",
    "\n",
    "    f4_weights[1, 1] = 0.8\n",
    "    f4_weights[0, 1] = 0.07\n",
    "\n",
    "    f4_weights[:, 0] = 1 - f4_weights[:, 1]\n",
    "\n",
    "    f4 = Factor('f4', f4_weights, [B, C])\n",
    "    return f4"
   ]
  },
  {
   "cell_type": "markdown",
   "metadata": {},
   "source": [
    "$$\n",
    "p(\\verb+Wheezing+ = 1| \\verb+Bronchitis+ = 1) = 0.6 \\\\\\\\\n",
    "p(\\verb+Wheezing+ = 1| \\verb+Bronchitis+ = 0) = 0.001\n",
    "$$"
   ]
  },
  {
   "cell_type": "code",
   "execution_count": null,
   "metadata": {
    "collapsed": false
   },
   "outputs": [],
   "source": [
    "def init_f5(B, W):\n",
    "    # Order: B, W\n",
    "    f5_weights = np.empty((2, 2))\n",
    "\n",
    "    f5_weights[1, 1] = 0.6\n",
    "    f5_weights[0, 1] = 0.001\n",
    "\n",
    "    f5_weights[:, 0] = 1 - f5_weights[:, 1]\n",
    "\n",
    "    f5 = Factor('f5', f5_weights, [B, W])\n",
    "    return f5"
   ]
  },
  {
   "cell_type": "markdown",
   "metadata": {},
   "source": [
    "$$\n",
    "p(\\verb+Smokes+) = 0.2\n",
    "$$"
   ]
  },
  {
   "cell_type": "code",
   "execution_count": null,
   "metadata": {
    "collapsed": true
   },
   "outputs": [],
   "source": [
    "def init_f6(S):\n",
    "    f6_weights = np.array([0.8, 0.2])\n",
    "    f6 = Factor('f6', f6_weights, [S])\n",
    "    return f6"
   ]
  },
  {
   "cell_type": "markdown",
   "metadata": {},
   "source": [
    "$$\n",
    "p(\\verb+Influenza+) = 0.05\n",
    "$$"
   ]
  },
  {
   "cell_type": "code",
   "execution_count": null,
   "metadata": {
    "collapsed": false
   },
   "outputs": [],
   "source": [
    "def init_f7(I):\n",
    "    f7_weights = np.array([0.95, 0.05])\n",
    "    f7 = Factor('f7', f7_weights, [I])\n",
    "    return f7"
   ]
  },
  {
   "cell_type": "code",
   "execution_count": null,
   "metadata": {
    "collapsed": true
   },
   "outputs": [],
   "source": [
    "def check_params_before_sending(self, other):\n",
    "    in_nodes = filter(lambda neighbour: neighbour != other, self.neighbours)\n",
    "\n",
    "    # Checks if all the information required to pass a message is present\n",
    "    for in_node in in_nodes:\n",
    "        if in_node not in self.in_msgs:\n",
    "            raise ValueError('Message from %s is missing for the factor %s' % (in_node, self))\n",
    "\n",
    "    # A list of incoming messages\n",
    "    in_msgs = map(lambda in_node: self.in_msgs[in_node], in_nodes)\n",
    "\n",
    "    return in_nodes, in_msgs\n",
    "\n",
    "Node.check_params_before_sending = check_params_before_sending"
   ]
  },
  {
   "cell_type": "markdown",
   "metadata": {},
   "source": [
    "### 1.2 Factor to variable messages (20 points)\n",
    "Write a method `send_sp_msg(self, other)` for the Factor class, that checks if all the information required to pass a message to Variable `other` is present, computes the message and sends it to `other`. \"Sending\" here simply means calling the `receive_msg` function of the receiving node (we will implement this later). The message itself should be represented as a numpy array (np.array) whose length is equal to the number of states of the variable.\n",
    "\n",
    "An elegant and efficient solution can be obtained using the n-way outer product of vectors. This product takes n vectors $\\mathbf{x}^{(1)}, \\ldots, \\mathbf{x}^{(n)}$ and computes a $n$-dimensional tensor (ndarray) whose element $i_0,i_1,...,i_n$ is given by $\\prod_j \\mathbf{x}^{(j)}_{i_j}$. In python, this is realized as `np.multiply.reduce(np.ix_(*vectors))` for a python list `vectors` of 1D numpy arrays. Try to figure out how this statement works -- it contains some useful functional programming techniques. Another function that you may find useful in computing the message is `np.tensordot`."
   ]
  },
  {
   "cell_type": "code",
   "execution_count": null,
   "metadata": {
    "collapsed": false
   },
   "outputs": [],
   "source": [
    "    def send_sp_msg(self, other):\n",
    "        assert isinstance(other,Variable)\n",
    "        if other not in self.neighbours:\n",
    "            raise Exception('The specified node is not a neighbour')\n",
    "\n",
    "        factor_indexes = range(len(self.neighbours))\n",
    "        factor_indexes.remove(self.neighbours.index(other))\n",
    "        message_indexes = range(len(factor_indexes))\n",
    "\n",
    "        mes = []\n",
    "        # extracting messages that are later used in computations\n",
    "        for ne in self.neighbours:\n",
    "            if ne==other: continue\n",
    "            if ne not in self.in_msgs: raise Exception('Some messages are not received')\n",
    "            mes.append(self.in_msgs[ne])\n",
    "            \n",
    "        mes = np.tensordot(self.f,np.multiply.reduce(np.ix_(*mes)),axes=(factor_indexes,message_indexes))\n",
    "        # sending the message\n",
    "        self.send_sp_msg_proc(other,mes)"
   ]
  },
  {
   "cell_type": "markdown",
   "metadata": {},
   "source": [
    "### 1.3 Variable to factor messages (10 points)\n",
    "\n",
    "Write a method `send_sp_message(self, other)` for the Variable class, that checks if all the information required to pass a message to Variable var is present, computes the message and sends it to factor."
   ]
  },
  {
   "cell_type": "code",
   "execution_count": null,
   "metadata": {
    "collapsed": false
   },
   "outputs": [],
   "source": [
    "def variable_send_sp_msg(self, other):\n",
    "    in_nodes, in_msgs = self.check_params_before_sending(other)\n",
    "    \n",
    "    # Already with observed_state required for 1.7\n",
    "    # If it's unobserved then self.observed_state == vector of 1 and we\n",
    "    # will marginalize over all possible values of the particular variable\n",
    "    # Otherwise, for example, if it's always 1, then self.observed_state == [0, 1]\n",
    "    # and we will set all 0 state to 0\n",
    "    out_msg = self.observed_state * np.multiply.reduce(in_msgs)\n",
    "    \n",
    "    # Sends a message to other\n",
    "    other.receive_msg(self, out_msg)\n",
    "    \n",
    "    self.pending.remove(other)\n",
    "        \n",
    "Variable.send_sp_msg = variable_send_sp_msg"
   ]
  },
  {
   "cell_type": "markdown",
   "metadata": {},
   "source": [
    "### 1.4 Compute marginal (10 points)\n",
    "Later in this assignment, we will implement message passing schemes to do inference. Once the message passing has completed, we will want to compute local marginals for each variable.\n",
    "Write the method `marginal` for the Variable class, that computes a marginal distribution over that node."
   ]
  },
  {
   "cell_type": "code",
   "execution_count": null,
   "metadata": {
    "collapsed": true
   },
   "outputs": [],
   "source": [
    "def variable_marginal(self, Z=None):\n",
    "    # Already with observed_state required for 1.7\n",
    "    marginal = self.observed_state * np.multiply.reduce(self.in_msgs.values())\n",
    "    \n",
    "    if Z == None:\n",
    "        Z = np.sum(marginal)\n",
    "    \n",
    "    marginal /= Z\n",
    "    \n",
    "    return marginal, Z\n",
    "\n",
    "Variable.marginal = variable_marginal"
   ]
  },
  {
   "cell_type": "markdown",
   "metadata": {},
   "source": [
    "### 1.5 Receiving messages (10 points)\n",
    "In order to implement the loopy and non-loopy message passing algorithms, we need some way to determine which nodes are ready to send messages to which neighbours. To do this in a way that works for both loopy and non-loopy algorithms, we make use of the concept of \"pending messages\", which is explained in Bishop (8.4.7): \n",
    "\"we will say that a (variable or factor)\n",
    "node a has a message pending on its link to a node b if node a has received any\n",
    "message on any of its other links since the last time it send (sic) a message to b. Thus,\n",
    "when a node receives a message on one of its links, this creates pending messages\n",
    "on all of its other links.\"\n",
    "\n",
    "Keep in mind that for the non-loopy algorithm, nodes may not have received any messages on some or all of their links. Therefore, before we say node a has a pending message for node b, we must check that node a has received all messages needed to compute the message that is to be sent to b.\n",
    "\n",
    "Modify the function `receive_msg`, so that it updates the self.pending variable as described above. The member self.pending is a set that is to be filled with Nodes to which self has pending messages. Modify the `send_msg` functions to remove pending messages as they are sent."
   ]
  },
  {
   "cell_type": "code",
   "execution_count": null,
   "metadata": {
    "collapsed": true
   },
   "outputs": [],
   "source": [
    "def node_receive_msg(self, other, msg):\n",
    "    # Store the incoming message, replacing previous messages from the same node\n",
    "    self.in_msgs[other] = msg\n",
    "    \n",
    "    print '%s receives message from %s: %s' % (self, other, msg)\n",
    "    for neighbour in set(self.neighbours) - {other}:\n",
    "        if neighbour in self.in_msgs:\n",
    "            # If received all messages from neighbours\n",
    "            if len(self.in_msgs) == len(self.neighbours):\n",
    "                self.pending.update([neighbour])\n",
    "        elif len(self.in_msgs) == len(self.neighbours) - 1:\n",
    "            # If all incoming messages received\n",
    "            self.pending.update([neighbour])\n",
    "\n",
    "Node.receive_msg = node_receive_msg"
   ]
  },
  {
   "cell_type": "markdown",
   "metadata": {},
   "source": [
    "### 1.6 Inference Engine (10 points)\n",
    "Write a function `sum_product(node_list)` that runs the sum-product message passing algorithm on a tree-structured factor graph with given nodes. The input parameter `node_list` is a list of all Node instances in the graph, which is assumed to be ordered correctly. That is, the list starts with a leaf node, which can always send a message. Subsequent nodes in `node_list` should be capable of sending a message when the pending messages of preceding nodes in the list have been sent. The sum-product algorithm then proceeds by passing over the list from beginning to end, sending all pending messages at the nodes it encounters. Then, in reverse order, the algorithm traverses the list again and again sends all pending messages at each node as it is encountered. For this to work, you must initialize pending messages for all the leaf nodes, e.g. `influenza_prior.pending.add(influenza)`, where `influenza_prior` is a Factor node corresponding the the prior, `influenza` is a Variable node and the only connection of `influenza_prior` goes to `influenza`.\n",
    "\n",
    "\n"
   ]
  },
  {
   "cell_type": "code",
   "execution_count": null,
   "metadata": {
    "collapsed": true
   },
   "outputs": [],
   "source": [
    "def apply_algorithm(node_list, func):\n",
    "    for node in node_list:\n",
    "        for other in list(node.pending):\n",
    "            func(node, other)\n",
    "\n",
    "def sum_product(node, other):\n",
    "    node.send_sp_msg(other)"
   ]
  },
  {
   "cell_type": "code",
   "execution_count": null,
   "metadata": {
    "collapsed": true
   },
   "outputs": [],
   "source": [
    "def configure_experiment():\n",
    "    variables = init_variables()\n",
    "\n",
    "    I, S, ST, F, B, C, W = variables\n",
    "\n",
    "    f1 = init_f1(I, ST)\n",
    "    f2 = init_f2(I, F)\n",
    "    f3 = init_f3(I, S, B)\n",
    "    f4 = init_f4(B, C)\n",
    "    f5 = init_f5(B, W)\n",
    "    f6 = init_f6(S)\n",
    "    f7 = init_f7(I)\n",
    "\n",
    "    f6.pending.update([S])\n",
    "    f7.pending.update([I])\n",
    "\n",
    "    ST.pending.update([f1])\n",
    "    F.pending.update([f2])\n",
    "    C.pending.update([f4])\n",
    "    W.pending.update([f5])\n",
    "    \n",
    "    return (I, S, ST, F, B, C, W), (f1, f2, f3, f4, f5, f6, f7)"
   ]
  },
  {
   "cell_type": "code",
   "execution_count": null,
   "metadata": {
    "collapsed": true
   },
   "outputs": [],
   "source": [
    "def print_marginals(variables):\n",
    "    for variable in variables:\n",
    "        marginal, Z = variable.marginal(None)\n",
    "        print variable, marginal"
   ]
  },
  {
   "cell_type": "code",
   "execution_count": null,
   "metadata": {
    "collapsed": false
   },
   "outputs": [],
   "source": [
    "variables, factors = configure_experiment()\n",
    "\n",
    "I, S, ST, F, B, C, W = variables\n",
    "f1, f2, f3, f4, f5, f6, f7 = factors\n",
    "\n",
    "node_list = [f6, f7, W, C, F, f4, f5, S, f2, B, f3, I, f1, ST]\n",
    "\n",
    "print 'Forward pass'\n",
    "apply_algorithm(node_list, sum_product)\n",
    "\n",
    "ST.pending.update([f1])\n",
    "\n",
    "print 'Backward pass'\n",
    "apply_algorithm(reversed(node_list), sum_product)\n",
    "\n",
    "print_marginals(variables)"
   ]
  },
  {
   "cell_type": "markdown",
   "metadata": {},
   "source": [
    "### 1.7 Observed variables and probabilistic queries (15 points)\n",
    "We will now use the inference engine to answer probabilistic queries. That is, we will set certain variables to observed values, and obtain the marginals over latent variables. We have already provided functions `set_observed` and `set_latent` that manage a member of Variable called `observed_state`. Modify the `Variable.send_msg` and `Variable.marginal` routines that you wrote before, to use `observed_state` so as to get the required marginals when some nodes are observed."
   ]
  },
  {
   "cell_type": "code",
   "execution_count": null,
   "metadata": {
    "collapsed": false
   },
   "outputs": [],
   "source": [
    "variables, factors = configure_experiment()\n",
    "\n",
    "I, S, ST, F, B, C, W = variables\n",
    "f1, f2, f3, f4, f5, f6, f7 = factors\n",
    "\n",
    "B.set_observed(1)\n",
    "\n",
    "node_list = [f6, f7, W, C, F, f4, f5, S, f2, B, f3, I, f1, ST]\n",
    "\n",
    "print 'Forward pass'\n",
    "apply_algorithm(node_list, sum_product)\n",
    "\n",
    "ST.pending.update([f1])\n",
    "\n",
    "print 'Backward pass'\n",
    "apply_algorithm(reversed(node_list), sum_product)\n",
    "\n",
    "print_marginals(variables)"
   ]
  },
  {
   "cell_type": "markdown",
   "metadata": {},
   "source": [
    "### 1.8 Sum-product and MAP states (5 points)\n",
    "A maximum a posteriori state (MAP-state) is an assignment of all latent variables that maximizes the probability of latent variables given observed variables:\n",
    "$$\n",
    "\\mathbf{x}_{\\verb+MAP+} = \\arg\\max _{\\mathbf{x}} p(\\mathbf{x} | \\mathbf{y})\n",
    "$$\n",
    "Could we use the sum-product algorithm to obtain a MAP state? If yes, how? If no, why not?\n"
   ]
  },
  {
   "cell_type": "code",
   "execution_count": null,
   "metadata": {
    "collapsed": true
   },
   "outputs": [],
   "source": []
  },
  {
   "cell_type": "markdown",
   "metadata": {},
   "source": [
    "## Part 2: The max-sum algorithm\n",
    "Next, we implement the max-sum algorithm as described in section 8.4.5 of Bishop."
   ]
  },
  {
   "cell_type": "markdown",
   "metadata": {},
   "source": [
    "### 2.1 Factor to variable messages (10 points)\n",
    "Implement the function `Factor.send_ms_msg` that sends Factor -> Variable messages for the max-sum algorithm. It is analogous to the `Factor.send_sp_msg` function you implemented before."
   ]
  },
  {
   "cell_type": "code",
   "execution_count": null,
   "metadata": {
    "collapsed": false
   },
   "outputs": [],
   "source": [
    "def factor_send_ms_msg(self, other):\n",
    "    in_nodes, in_msgs = self.check_params_before_sending(other)\n",
    "    \n",
    "    factor_indexes = range(len(self.neighbours))\n",
    "    \n",
    "    # Excludes an index of the \"other\" node\n",
    "    factor_indexes.remove(self.neighbours.index(other))\n",
    "    \n",
    "    # Replacing sum by max, product by sum\n",
    "    out_msg = np.expand_dims(np.add.reduce(np.ix_(*in_msgs)), self.neighbours.index(other))\n",
    "    out_msg = np.squeeze(np.apply_over_axes(np.amax, np.log(self.f) + out_msg, factor_indexes))\n",
    "    \n",
    "    # Sends a message to other\n",
    "    other.receive_msg(self, out_msg)\n",
    "    \n",
    "    self.pending.remove(other)\n",
    "        \n",
    "Factor.send_ms_msg = factor_send_ms_msg"
   ]
  },
  {
   "cell_type": "markdown",
   "metadata": {},
   "source": [
    "### 2.2 Variable to factor messages (10 points)\n",
    "Implement the `Variable.send_ms_msg` function that sends Variable -> Factor messages for the max-sum algorithm."
   ]
  },
  {
   "cell_type": "code",
   "execution_count": null,
   "metadata": {
    "collapsed": false
   },
   "outputs": [],
   "source": [
    "def variable_send_ms_msg(self, other):\n",
    "    in_nodes, in_msgs = self.check_params_before_sending(other)\n",
    "    \n",
    "    out_msg = np.log(self.observed_state)\n",
    "    if len(in_msgs) > 0:\n",
    "        out_msg += np.add.reduce(in_msgs)\n",
    "        \n",
    "    # Sends a message to other\n",
    "    other.receive_msg(self, out_msg)\n",
    "    \n",
    "    self.pending.remove(other)\n",
    "        \n",
    "Variable.send_ms_msg = variable_send_ms_msg"
   ]
  },
  {
   "cell_type": "markdown",
   "metadata": {},
   "source": [
    "### 2.3 Find a MAP state (10 points)\n",
    "\n",
    "Using the same message passing schedule we used for sum-product, implement the max-sum algorithm. For simplicity, we will ignore issues relating to non-unique maxima. So there is no need to implement backtracking; the MAP state is obtained by a per-node maximization (eq. 8.98 in Bishop). Make sure your algorithm works with both latent and observed variables."
   ]
  },
  {
   "cell_type": "code",
   "execution_count": null,
   "metadata": {
    "collapsed": true
   },
   "outputs": [],
   "source": [
    "def map_state(self):\n",
    "    # Returns 0 state or 1\n",
    "    return np.argmax(np.add.reduce(self.in_msgs.values()) + np.log(self.observed_state))\n",
    "\n",
    "Variable.map_state = map_state"
   ]
  },
  {
   "cell_type": "code",
   "execution_count": null,
   "metadata": {
    "collapsed": true
   },
   "outputs": [],
   "source": [
    "def max_sum(node, other):\n",
    "    node.send_ms_msg(other)"
   ]
  },
  {
   "cell_type": "code",
   "execution_count": null,
   "metadata": {
    "collapsed": true
   },
   "outputs": [],
   "source": [
    "def print_map_states(variables):\n",
    "    for variable in variables:\n",
    "        map_state = variable.map_state()\n",
    "        print variable, map_state"
   ]
  },
  {
   "cell_type": "code",
   "execution_count": null,
   "metadata": {
    "collapsed": false
   },
   "outputs": [],
   "source": [
    "variables, factors = configure_experiment()\n",
    "\n",
    "I, S, ST, F, B, C, W = variables\n",
    "f1, f2, f3, f4, f5, f6, f7 = factors\n",
    "\n",
    "B.set_observed(1)\n",
    "\n",
    "node_list = [f6, f7, W, C, F, f4, f5, S, f2, B, f3, I, f1, ST]\n",
    "\n",
    "print 'Forward pass'\n",
    "apply_algorithm(node_list, max_sum)\n",
    "\n",
    "ST.pending.update([f1])\n",
    "\n",
    "print 'Backward pass'\n",
    "apply_algorithm(reversed(node_list), max_sum)\n",
    "\n",
    "print_map_states(variables)"
   ]
  },
  {
   "cell_type": "markdown",
   "metadata": {},
   "source": [
    "## Part 3: Image Denoising and Loopy BP\n",
    "\n",
    "Next, we will use a loopy version of max-sum to perform denoising on a binary image. The model itself is discussed in Bishop 8.3.3, but we will use loopy max-sum instead of Iterative Conditional Modes as Bishop does.\n",
    "\n",
    "The following code creates some toy data. `im` is a quite large binary image, `test_im` is a smaller synthetic binary image. Noisy versions are also provided."
   ]
  },
  {
   "cell_type": "code",
   "execution_count": null,
   "metadata": {
    "collapsed": false
   },
   "outputs": [],
   "source": [
    "from pylab import imread, gray\n",
    "# Load the image and binarize\n",
    "im = np.mean(imread('dalmatian1.png'), axis=2) > 0.5\n",
    "imshow(im)\n",
    "gray()\n",
    "\n",
    "# Add some noise\n",
    "noise = np.random.rand(*im.shape) > 0.9\n",
    "noise_im = np.logical_xor(noise, im)\n",
    "figure()\n",
    "imshow(noise_im)\n",
    "\n",
    "test_im = np.zeros((10,10))\n",
    "#test_im[5:8, 3:8] = 1.0\n",
    "#test_im[5,5] = 1.0\n",
    "figure()\n",
    "imshow(test_im)\n",
    "\n",
    "# Add some noise\n",
    "noise = np.random.rand(*test_im.shape) > 0.9\n",
    "noise_test_im = np.logical_xor(noise, test_im)\n",
    "figure()\n",
    "imshow(noise_test_im)\n",
    "\n",
    "show()"
   ]
  },
  {
   "cell_type": "markdown",
   "metadata": {},
   "source": [
    "### 3.1 Construct factor graph (10 points)\n",
    "Convert the Markov Random Field (Bishop, fig. 8.31) to a factor graph and instantiate it."
   ]
  },
  {
   "cell_type": "code",
   "execution_count": null,
   "metadata": {
    "collapsed": false
   },
   "outputs": [],
   "source": [
    "from itertools import product\n",
    "\n",
    "def create_factor_graph(img):\n",
    "    Y = np.empty(img.shape, dtype='object')\n",
    "    X = np.empty(img.shape, dtype='object')\n",
    "    fYX = np.empty(img.shape, dtype='object')\n",
    "    fXR = np.empty((img.shape[0] - 1, img.shape[1] - 1), dtype='object')\n",
    "    fXB = np.empty((img.shape[0] - 1, img.shape[1] - 1), dtype='object')\n",
    "    \n",
    "    init_prob = np.array([[0.8, 0.2], [0.2, 0.8]])\n",
    "    \n",
    "    for y, x in product(range(img.shape[0]), range(img.shape[1])):\n",
    "        Y[y, x] = Variable('y(%d,%d)' % (x, y), 2)\n",
    "        Y[y, x].set_observed(img[y, x])\n",
    "        \n",
    "        X[y, x] = Variable('x(%d,%d)' % (x, y), 2)\n",
    "        \n",
    "        fYX[y, x] = Factor('fXY(%d,%d)' % (x, y), init_prob, [Y[y, x], X[y, x]])\n",
    "        \n",
    "        Y[y, x].pending.update([fYX[y, x]])\n",
    "    \n",
    "    one_msg = np.ones(2)\n",
    "    for y, x in product(range(img.shape[0] - 1), range(img.shape[1] - 1)):\n",
    "        fXR[y, x] = Factor('fXR(%d,%d)' % (x, y), init_prob, [X[y, x], X[y, x + 1]])\n",
    "        fXB[y, x] = Factor('fXB(%d,%d)' % (x, y), init_prob, [X[y, x], X[y + 1, x]])\n",
    "        \n",
    "        # Flooding schedule, simultaneously passing a message across every link in both direction\n",
    "        # Bishop 8.4.7\n",
    "        X[y, x].in_msgs[fXR[y, x]] = one_msg\n",
    "        X[y, x].in_msgs[fXB[y, x]] = one_msg\n",
    "        \n",
    "        X[y, x + 1].in_msgs[fXR[y, x]] = one_msg\n",
    "        X[y + 1, x].in_msgs[fXB[y, x]] = one_msg\n",
    "    \n",
    "    return Y, X, fYX, fXR, fXB"
   ]
  },
  {
   "cell_type": "markdown",
   "metadata": {},
   "source": [
    "### 3.2 Loopy max-sum (10 points)\n",
    "Implement the loopy max-sum algorithm, by passing messages from randomly chosen nodes iteratively until no more pending messages are created or a maximum number of iterations is reached. \n",
    "\n",
    "Think of a good way to initialize the messages in the graph."
   ]
  },
  {
   "cell_type": "code",
   "execution_count": null,
   "metadata": {
    "collapsed": false
   },
   "outputs": [],
   "source": [
    "def denoise(img, niter=10):\n",
    "    Y, X, fYX, fXR, fXB = create_factor_graph(img)\n",
    "    for i in range(niter):\n",
    "        fXX = np.hstack((fXR.flatten(), fXB.flatten()))\n",
    "        np.random.shuffle(fXX)\n",
    "        \n",
    "        # Preordered, first observed variables, then factors between observed variables and\n",
    "        # corresponding laten variables, then all latent variables and then factors between\n",
    "        # latents in the random order.\n",
    "        node_list = np.hstack((Y.flatten(), fYX.flatten(), X.flatten(), fXX)).tolist()\n",
    "\n",
    "        apply_algorithm(node_list, max_sum)\n",
    "    result = np.zeros_like(img)\n",
    "    for y, x in product(range(img.shape[0]), range(img.shape[1])):\n",
    "        result[y, x] = X[y, x].map_state()\n",
    "    return result"
   ]
  },
  {
   "cell_type": "code",
   "execution_count": null,
   "metadata": {
    "collapsed": false
   },
   "outputs": [],
   "source": [
    "imshow(denoise(noise_test_im))\n",
    "show()"
   ]
  },
  {
   "cell_type": "code",
   "execution_count": null,
   "metadata": {
    "collapsed": false
   },
   "outputs": [],
   "source": [
    "imshow(denoise(noise_im, niter=10))\n",
    "show()"
   ]
  },
  {
   "cell_type": "code",
   "execution_count": null,
   "metadata": {
    "collapsed": true
   },
   "outputs": [],
   "source": []
  }
 ],
 "metadata": {
  "kernelspec": {
   "display_name": "Python 2",
   "language": "python",
   "name": "python2"
  },
  "language_info": {
   "codemirror_mode": {
    "name": "ipython",
    "version": 2
   },
   "file_extension": ".py",
   "mimetype": "text/x-python",
   "name": "python",
   "nbconvert_exporter": "python",
   "pygments_lexer": "ipython2",
   "version": "2.7.10"
  }
 },
 "nbformat": 4,
 "nbformat_minor": 0
}
